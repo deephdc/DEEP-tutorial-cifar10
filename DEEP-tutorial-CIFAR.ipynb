{
 "cells": [
  {
   "cell_type": "markdown",
   "metadata": {},
   "source": [
    "\n",
    "<img src=\"https://deep-hybrid-datacloud.eu/wp-content/uploads/sites/2/2018/01/logo.png\" width=\"100\">"
   ]
  },
  {
   "cell_type": "markdown",
   "metadata": {},
   "source": [
    "<h1><center>DEEP-HybridDataCloud tutorial: Integrating a simple Keras application</center></h1>"
   ]
  },
  {
   "cell_type": "markdown",
   "metadata": {},
   "source": [
    "This tutorial will guide you through the integration of a simple Deep Learning model (CIFAR10 image classification using Keras) with the API architecture. For more details you can check the [DEEP documentation repository](http://docs.deep-hybrid-datacloud.eu \"DEEP docs\")\n",
    "\n",
    "\n"
   ]
  },
  {
   "cell_type": "markdown",
   "metadata": {},
   "source": [
    "If you want to have the general view of the model you can take a look at this [Model Notebook](https://github.com/laramaktub/IBERGRID-tutorial/blob/master/CIFAR10.ipynb \"Notebook\"). We will go in more detail through the tutorial."
   ]
  },
  {
   "cell_type": "markdown",
   "metadata": {},
   "source": [
    "For running this tutorial we are going to be using a [Docker container](https://www.docker.com). A Docker container image is a lightweight, standalone, executable package of software that includes everything needed to run an application: code, runtime, system tools, system libraries and settings. This means that the user doesn't have to worry about all these details and can focus only on the use/development of the application."
   ]
  },
  {
   "cell_type": "markdown",
   "metadata": {},
   "source": [
    "Take into account that you should have a git account for doing this tutorial. Make sure you have properly defined your **git identification variables:**"
   ]
  },
  {
   "cell_type": "markdown",
   "metadata": {},
   "source": [
    "```console\n",
    "\n",
    "$ git config --global user.email \"you@example.com\"\n",
    "$ git config --global user.name \"Your_Name\"\n",
    "```"
   ]
  },
  {
   "cell_type": "markdown",
   "metadata": {},
   "source": [
    "First of all, we need to **install cookiecutter** which creates projects from project templates:\n",
    "    "
   ]
  },
  {
   "cell_type": "markdown",
   "metadata": {},
   "source": [
    "```console\n",
    "$ pip install cookiecutter\n",
    "```"
   ]
  },
  {
   "cell_type": "markdown",
   "metadata": {},
   "source": [
    "Now that we have cookiecutter installed, we can generate the template for our project:"
   ]
  },
  {
   "cell_type": "markdown",
   "metadata": {},
   "source": [
    "```console\n",
    "$ cookiecutter https://github.com/indigo-dc/cookiecutter-data-science --checkout tutorial\n",
    "```"
   ]
  },
  {
   "cell_type": "markdown",
   "metadata": {},
   "source": [
    "The template for the project will be downloaded and you will be asked several questions. "
   ]
  },
  {
   "cell_type": "markdown",
   "metadata": {},
   "source": [
    "```\n",
    "git_base_url [https://github.com/deephdc]: https://github.com/your_github_user\n",
    "project_name [project_name]: cifar10\n",
    "repo_name [cifar10]: cifar10\n",
    "author_name [Your name (or your organization/company/team)]: your_name\n",
    "author_email [Your email]: your_mail\n",
    "description [A short description of the project.]: CIFAR10 classification app\n",
    "app_version [Application version (expects X.Y.Z (Major.Minor.Patch))]: 1.0.0\n",
    "Select open_source_license:\n",
    "1 - MIT\n",
    "2 - BSD-3-Clause\n",
    "3 - No license file\n",
    "Choose from 1, 2, 3 (1, 2, 3) [1]: 1\n",
    "Select python_interpreter:\n",
    "1 - python3\n",
    "2 - python\n",
    "Choose from 1, 2 (1, 2) [1]: 1\n",
    "dockerhub_user [User account at hub.docker.com, e.g. 'deephdc' in https://hub.docker.com/u/deephdc]: your_docker_user\n",
    "docker_baseimage [Base Docker image for Dockerfile, e.g. tensorflow/tensorflow]: tensorflow/tensorflow\n",
    "baseimage_cpu_tag [CPU tag for the Base Docker image, e.g. 1.12.0-py3. Has to match python version!]: 1.10.0-py3\n",
    "baseimage_gpu_tag [GPU tag for the Base Docker image, e.g. 1.12.0-gpu-py3. Has to match python version!]: 1.10.0-gpu-py3\n",
    "```"
   ]
  },
  {
   "cell_type": "markdown",
   "metadata": {},
   "source": [
    "This will create two project directories:"
   ]
  },
  {
   "cell_type": "markdown",
   "metadata": {},
   "source": [
    "```  \n",
    "~/cifar10\n",
    "~/DEEP-OC-cifar10\n",
    "```"
   ]
  },
  {
   "cell_type": "markdown",
   "metadata": {},
   "source": [
    "Go to ``github.com/your_account`` and create the corresponding repositories: ``DEEP-OC-cifar10`` and ``cifar10``. \n"
   ]
  },
  {
   "cell_type": "markdown",
   "metadata": {},
   "source": [
    "Now enter in the directories you just created and do ``git push origin master`` in both created directories. This puts your initial code to github"
   ]
  },
  {
   "cell_type": "markdown",
   "metadata": {},
   "source": [
    "You are now ready to run the Docker container. For the moment it will just contain an empty model."
   ]
  },
  {
   "cell_type": "markdown",
   "metadata": {},
   "source": [
    "Go to the ``~/DEEP-OC-cifar10`` directory and build the docker image:"
   ]
  },
  {
   "cell_type": "markdown",
   "metadata": {},
   "source": [
    "```\n",
    "sudo docker build -t cifar10docker .\n",
    "      ```"
   ]
  },
  {
   "cell_type": "markdown",
   "metadata": {},
   "source": [
    "This will generate a docker image that you can check by doing:"
   ]
  },
  {
   "cell_type": "markdown",
   "metadata": {},
   "source": [
    "```console\n",
    "$ sudo docker images\n",
    "```"
   ]
  },
  {
   "cell_type": "markdown",
   "metadata": {},
   "source": [
    "Now let's run the docker container by typing:"
   ]
  },
  {
   "cell_type": "markdown",
   "metadata": {},
   "source": [
    "```console\n",
    "$ sudo docker run -ti -p 5000:5000 -p 8888:8888 -p 6006:6006 cifar10docker /bin/bash\n",
    "```"
   ]
  },
  {
   "cell_type": "markdown",
   "metadata": {},
   "source": [
    "This will deploy the container. We can now type on the command line the following command to run the jupyter lab:\n",
    "\n",
    "    \n",
    "   "
   ]
  },
  {
   "cell_type": "markdown",
   "metadata": {},
   "source": [
    "```console\n",
    "$ /srv/.jupyter/run_jupyter.sh --allow-root\n",
    "```"
   ]
  },
  {
   "cell_type": "markdown",
   "metadata": {},
   "source": [
    "## SECOND PART OF TUTORIAL ##"
   ]
  },
  {
   "cell_type": "markdown",
   "metadata": {},
   "source": [
    "This will generate an URL with a token. We can enter it in the web browser and we will now be running jupyter lab!"
   ]
  },
  {
   "cell_type": "markdown",
   "metadata": {},
   "source": [
    "Now, in jupyter Lab, you can go to Terminal. You will be seeing the directory structure in your docker. You can launch the DEEPaaS API by typing:"
   ]
  },
  {
   "cell_type": "markdown",
   "metadata": {},
   "source": [
    "```console\n",
    "$ deepaas-run --listen-ip 0.0.0.0\n",
    "```"
   ]
  },
  {
   "cell_type": "markdown",
   "metadata": {},
   "source": [
    "The DEEPaaS API will be now running and accesible at ``your_VM_IP:5000``"
   ]
  },
  {
   "cell_type": "markdown",
   "metadata": {},
   "source": [
    "You can easily check that right now there is no model loaded yet. For this, check the current metadata of the model and check the training part. You can see that there are no input arguments defined. "
   ]
  },
  {
   "cell_type": "markdown",
   "metadata": {},
   "source": [
    "Let's now include our **cifar10** model! "
   ]
  },
  {
   "cell_type": "markdown",
   "metadata": {},
   "source": [
    "```\n",
    "requirements.txt\n",
    "data/  \n",
    "models/  \n",
    "cifar10/dataset/make_dataset.py\n",
    "cifar10/features/build_features.py  \n",
    "cifar10/models/deepaas_api.py  \n",
    "cifar10/config.py  \n",
    "```"
   ]
  },
  {
   "cell_type": "markdown",
   "metadata": {},
   "source": [
    "The file ``cifar10/config.py`` contains the input parameters that we want to give as input to our application via the web API. Open it and check that right now there is no parameter defined."
   ]
  },
  {
   "cell_type": "markdown",
   "metadata": {},
   "source": [
    "For this tutorial we want to have as parameters:\n",
    "    * Learning rate\n",
    "    * Number of epochs\n",
    "    * Output directory\n",
    "    \n",
    "You can add this parameters by defining your train_args and your pred_args in the config.py file as:\n",
    "    "
   ]
  },
  {
   "cell_type": "code",
   "execution_count": 1,
   "metadata": {},
   "outputs": [],
   "source": [
    "train_args = { 'epochs': {'default': 1,\n",
    "                        'help': 'Number of epochs',\n",
    "                        'required': True,\n",
    "                        'type': int\n",
    "                        },\n",
    "\n",
    "               'lrate': {'default':0.001,\n",
    "                         'help': 'Initial learning rate value',\n",
    "                         'required': True,\n",
    "                         'type': float\n",
    "                        },\n",
    "\n",
    "               'outputpath': {'default': \"/tmp\",\n",
    "                         'help': 'Path for saving the model',\n",
    "                         'required': True\n",
    "                        },\n",
    "}\n",
    "\n",
    "predict_args = { 'outputpath': {'default': \"/tmp\",\n",
    "                          'help': 'Path for loading the model',\n",
    "                          'required': True\n",
    "                         },\n",
    "}\n",
    "\n"
   ]
  },
  {
   "cell_type": "markdown",
   "metadata": {},
   "source": [
    "Launch again the DEEPaaS API. You will now see these input parameters there!\n"
   ]
  },
  {
   "cell_type": "markdown",
   "metadata": {},
   "source": [
    "In the ``requirements.txt`` file, one can include any additional package that may be needed to run the model. In our case, we only need to include one more line to this file for installing keras version 2.0.2. "
   ]
  },
  {
   "cell_type": "markdown",
   "metadata": {},
   "source": [
    "```\n",
    "keras==2.0.2\n",
    "\n",
    "```"
   ]
  },
  {
   "cell_type": "markdown",
   "metadata": {},
   "source": [
    "Now let's download our model. For doing so, you  can go to the ``cifar10/models/`` folder and type:"
   ]
  },
  {
   "cell_type": "markdown",
   "metadata": {},
   "source": [
    "```console\n",
    "$ wget https://raw.githubusercontent.com/deephdc/DEEP-tutorial-cifar10/master/cifar10/models/cifar10_model.py\n",
    "```"
   ]
  },
  {
   "cell_type": "markdown",
   "metadata": {},
   "source": [
    "Open the ``cifar10_model.py`` file and take a look. You will see two functions called ``train_nn`` and ``predict_nn``. They contain our model both for training and for prediction respectively."
   ]
  },
  {
   "cell_type": "markdown",
   "metadata": {},
   "source": [
    "The ``deepaas_api.py`` is the script containing the functions that are going to be called from the DEEPaaS API. We will be editing only the functions:\n",
    "    \n",
    "    * get_metadata(): retrieves the model metadata\n",
    "    * train(): launch the model training\n",
    "    * predict_data(): predict on some image loaded by the user\n",
    "        \n"
   ]
  },
  {
   "cell_type": "markdown",
   "metadata": {},
   "source": [
    "Now you can download a filled version of the ``deepaas_api()`` file, go to the models folder and type:"
   ]
  },
  {
   "cell_type": "markdown",
   "metadata": {},
   "source": [
    "```console\n",
    "$ wget -O deepaas_api.py https://raw.githubusercontent.com/deephdc/DEEP-tutorial-cifar10/master/cifar10/models/deepaas_api.py\n",
    "```"
   ]
  },
  {
   "cell_type": "markdown",
   "metadata": {},
   "source": [
    "Open the file and check how the functions from our model are being imported:\n",
    "\n",
    "\n",
    "\n",
    "\n",
    "    "
   ]
  },
  {
   "cell_type": "markdown",
   "metadata": {},
   "source": [
    "```console\n",
    "$ from cifar10.models.cifar10_model  import train_nn, predict_nn\n",
    "```"
   ]
  },
  {
   "cell_type": "markdown",
   "metadata": {},
   "source": [
    "Start by filling the metadata in the get_metadata() function. An example:"
   ]
  },
  {
   "cell_type": "markdown",
   "metadata": {},
   "source": [
    "    meta = {\n",
    "        'Name': \"cifar10\",\n",
    "        'Version': \"1.0.0\",\n",
    "        'Summary': \"This is a simple implementation of cifar10 in keras\",\n",
    "        'Home-page': None,\n",
    "        'Author': \"Lara Lloret Iglesias\",\n",
    "        'Author-email': \"lloret@ifca.unican.es\",\n",
    "        'License': \"MIT\",\n",
    "    }"
   ]
  },
  {
   "cell_type": "markdown",
   "metadata": {},
   "source": [
    "Now take a look at the ``predict_data()`` and ``train()`` functions."
   ]
  },
  {
   "cell_type": "markdown",
   "metadata": {},
   "source": [
    "The ``predict_data()`` has been modified in order to retrieve the loaded images and pass it to the"
   ]
  },
  {
   "cell_type": "code",
   "execution_count": 2,
   "metadata": {},
   "outputs": [],
   "source": [
    "def predict_data(*args):\n",
    "    \"\"\"\n",
    "    Function to make prediction on an uploaded file\n",
    "    \"\"\"\n",
    "    outputpath=args[0][\"outputpath\"]\n",
    "    thefile= args[0]['files'][0]\n",
    "    thename= thefile.filename\n",
    "    thepath= outputpath + \"/\" +thename\n",
    "    \n",
    "    thefile.save(thepath)\n",
    "        \n",
    "    img = image.load_img(thepath, target_size=(32,32))\n",
    "    x= image.img_to_array(img)\n",
    "   \n",
    "    message=predict_nn(x,outputpath)\n",
    "   \n",
    "    return message\n"
   ]
  },
  {
   "cell_type": "markdown",
   "metadata": {},
   "source": [
    "The ``train()`` function looks like this:"
   ]
  },
  {
   "cell_type": "code",
   "execution_count": 3,
   "metadata": {},
   "outputs": [],
   "source": [
    "def train(train_args):\n",
    "    \n",
    "   # Train network\n",
    "   # train_args : dict\n",
    "   #     Json dict with the user's configuration parameters.\n",
    "   #     Can be loaded with json.loads() or with yaml.safe_load()    \n",
    "\n",
    "    train_nn(train_args['epochs'], train_args['lrate'],train_args['outputpath'])\n",
    "   \n",
    "    run_results = { \"status\": \"SUCCESS\",\n",
    "                    \"train_args\": [],\n",
    "                    \"training\": [],\n",
    "                  }\n",
    "\n",
    "    run_results[\"train_args\"].append(train_args)\n",
    "\n",
    "   \n",
    "    return run_results"
   ]
  },
  {
   "cell_type": "markdown",
   "metadata": {},
   "source": [
    "This retrieves the input arguments and passing them to the train_nn function from our model."
   ]
  },
  {
   "cell_type": "markdown",
   "metadata": {},
   "source": [
    "We are now ready to go!"
   ]
  },
  {
   "cell_type": "markdown",
   "metadata": {},
   "source": [
    "Run the following command from the same directory where your requirements.txt is to install the cifar10 package with the new dependencies:"
   ]
  },
  {
   "cell_type": "markdown",
   "metadata": {},
   "source": [
    "```console\n",
    "$ python -m pip install -e .\n",
    "```"
   ]
  },
  {
   "cell_type": "markdown",
   "metadata": {},
   "source": [
    "Go to the terminal and launch the application again!"
   ]
  },
  {
   "cell_type": "markdown",
   "metadata": {},
   "source": [
    "```console\n",
    "$ deepaas-run --listen-ip 0.0.0.0\n",
    "```"
   ]
  },
  {
   "cell_type": "markdown",
   "metadata": {},
   "source": [
    "You can now play with the model directly from the DEEPaaS API."
   ]
  },
  {
   "cell_type": "markdown",
   "metadata": {},
   "source": [
    "    * Go to your browser and type your_VM_IP:5000\n",
    "    * Run the get_metadata()\n",
    "    * Save some truck picture from google and try to do some prediction (this should not work yet) \n",
    "    * Launch the training: try with 1 or 2 epochs, learning rate of 0.001 and the default output path (\"/tmp\")\n",
    "    * Try prediction again with the truck picture\n",
    "    * Feel free to train again with more samples, during more epochs, etc..."
   ]
  },
  {
   "cell_type": "markdown",
   "metadata": {},
   "source": [
    "That was it! You have just integrated your first model in the DEEPaaS API!"
   ]
  }
 ],
 "metadata": {
  "kernelspec": {
   "display_name": "Python 3",
   "language": "python",
   "name": "python3"
  },
  "language_info": {
   "codemirror_mode": {
    "name": "ipython",
    "version": 3
   },
   "file_extension": ".py",
   "mimetype": "text/x-python",
   "name": "python",
   "nbconvert_exporter": "python",
   "pygments_lexer": "ipython3",
   "version": "3.6.6"
  }
 },
 "nbformat": 4,
 "nbformat_minor": 2
}
